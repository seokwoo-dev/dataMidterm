{
 "cells": [
  {
   "cell_type": "code",
   "execution_count": null,
   "metadata": {
    "id": "h6GWWfZVanfT"
   },
   "outputs": [],
   "source": [
    "strVal = 'data science'               # 문자열 변수\n",
    "nVal = 12345                          # 정수형 변수\n",
    "fVal = 1.2                            # 실수형 변수\n",
    "lVal = ['data', 'science']            # 리스트\n",
    "dVal = {'lecture' : 'data science'}   # 딕셔너리\n",
    "bVal = True                           # 논리형 변수(참/거짓)"
   ]
  },
  {
   "cell_type": "code",
   "execution_count": null,
   "metadata": {
    "id": "1iti5n-YbBC-"
   },
   "outputs": [],
   "source": [
    "# 기본적인 주석"
   ]
  },
  {
   "cell_type": "code",
   "execution_count": null,
   "metadata": {
    "id": "Fmi3Ag5JbFsG"
   },
   "outputs": [],
   "source": [
    "''' \n",
    "이런 형태의 주석도 많이 사용\n",
    "'''"
   ]
  },
  {
   "cell_type": "code",
   "execution_count": null,
   "metadata": {
    "id": "al43nPiUeGbL"
   },
   "outputs": [],
   "source": [
    "strVal"
   ]
  },
  {
   "cell_type": "code",
   "execution_count": null,
   "metadata": {
    "id": "hEB2UR8jfsb-"
   },
   "outputs": [],
   "source": [
    "nVal"
   ]
  },
  {
   "cell_type": "code",
   "execution_count": null,
   "metadata": {
    "id": "pNUcxS8ZfsUd"
   },
   "outputs": [],
   "source": [
    "fVal"
   ]
  },
  {
   "cell_type": "code",
   "execution_count": null,
   "metadata": {
    "id": "fsfcn24-fsLS"
   },
   "outputs": [],
   "source": [
    "lVal"
   ]
  },
  {
   "cell_type": "code",
   "execution_count": null,
   "metadata": {
    "id": "6GF01BDLfr5y"
   },
   "outputs": [],
   "source": [
    "dVal"
   ]
  },
  {
   "cell_type": "code",
   "execution_count": null,
   "metadata": {
    "id": "F82K8ey9g2ru"
   },
   "outputs": [],
   "source": [
    "bVal"
   ]
  },
  {
   "cell_type": "code",
   "execution_count": null,
   "metadata": {
    "id": "1CLbnWb_f1D6"
   },
   "outputs": [],
   "source": [
    "print('strVal : ', strVal)\n",
    "print('nVal : ', nVal)\n",
    "print('fVal : ', fVal)\n",
    "print('lVal : ', lVal)\n",
    "print('dVal : ', dVal)\n",
    "print('bVal : ', bVal)"
   ]
  },
  {
   "cell_type": "code",
   "execution_count": null,
   "metadata": {
    "id": "eqkeBWt2fBH-"
   },
   "outputs": [],
   "source": [
    "print('strVal : ', type(strVal))\n",
    "print('nVal : ', type(nVal))\n",
    "print('fVal : ', type(fVal))\n",
    "print('lVal : ', type(lVal))\n",
    "print('dVal : ', type(dVal))\n",
    "print('bVal : ', type(bVal))"
   ]
  },
  {
   "cell_type": "code",
   "execution_count": null,
   "metadata": {
    "id": "w4VNvXwBgnIU"
   },
   "outputs": [],
   "source": [
    "'''\n",
    "같은 변수명일 경우, 이전 데이터를 덮어씀\n",
    "'''\n",
    "nVal = 16                          # 정수형 변수\n",
    "fVal = 3.14                        # 실수형 변수"
   ]
  },
  {
   "cell_type": "code",
   "execution_count": null,
   "metadata": {
    "id": "AM4e4tyIhdKO"
   },
   "outputs": [],
   "source": [
    "print('10진수 표현 : ', nVal)       # 10진수\n",
    "print('2진수 표현 : ', bin(nVal))  # 2진수\n",
    "print('8진수 표현 : ', oct(nVal))  # 8진수\n",
    "print('16진수 표현 : ', hex(nVal))  # 16진수"
   ]
  },
  {
   "cell_type": "code",
   "execution_count": null,
   "metadata": {
    "id": "1NpDfZi5iNVW"
   },
   "outputs": [],
   "source": [
    "btVal = True                           # 논리형 변수(참)\n",
    "bfVal = False                          # 논리형 변수(거짓)"
   ]
  },
  {
   "cell_type": "code",
   "execution_count": null,
   "metadata": {
    "id": "nuBfvkCyjcIP"
   },
   "outputs": [],
   "source": [
    "btVal = TRUE                          # 논리형 변수(참) - 오류\n",
    "bfVal = FALSE                          # 논리형 변수(거짓) - 오류"
   ]
  },
  {
   "cell_type": "code",
   "execution_count": null,
   "metadata": {
    "id": "9HGwSh3BjbBV"
   },
   "outputs": [],
   "source": [
    "btVal = true                          # 논리형 변수(참) - 오류\n",
    "bfVal = false                          # 논리형 변수(거짓) - 오류"
   ]
  },
  {
   "cell_type": "code",
   "execution_count": null,
   "metadata": {
    "id": "5bCNVOuvj11m"
   },
   "outputs": [],
   "source": [
    "10 == 11"
   ]
  },
  {
   "cell_type": "code",
   "execution_count": null,
   "metadata": {
    "id": "Ep0qGWQ1kbqe"
   },
   "outputs": [],
   "source": [
    "10 != 11"
   ]
  },
  {
   "cell_type": "code",
   "execution_count": null,
   "metadata": {
    "id": "LxhUwr4gkhMF"
   },
   "outputs": [],
   "source": [
    "10 >= 11"
   ]
  },
  {
   "cell_type": "code",
   "execution_count": null,
   "metadata": {
    "id": "DlX41LZxkiVV"
   },
   "outputs": [],
   "source": [
    "10 <= 11"
   ]
  },
  {
   "cell_type": "code",
   "execution_count": null,
   "metadata": {
    "id": "-y3MlmXAkk7V"
   },
   "outputs": [],
   "source": [
    "10 > 11"
   ]
  },
  {
   "cell_type": "code",
   "execution_count": null,
   "metadata": {
    "id": "zmmAslbCknPN"
   },
   "outputs": [],
   "source": [
    "10 < 11"
   ]
  },
  {
   "cell_type": "code",
   "execution_count": null,
   "metadata": {
    "id": "yEIirL62koW0"
   },
   "outputs": [],
   "source": [
    "nBig = 100\n",
    "nSmall = 10"
   ]
  },
  {
   "cell_type": "code",
   "execution_count": null,
   "metadata": {
    "id": "uJwjib-Ekwgd"
   },
   "outputs": [],
   "source": [
    "print(nBig == nSmall)\n",
    "print(nBig != nSmall)\n",
    "print(nBig >= nSmall)\n",
    "print(nBig <= nSmall)\n",
    "print(nBig > nSmall)\n",
    "print(nBig < nSmall)"
   ]
  },
  {
   "cell_type": "code",
   "execution_count": null,
   "metadata": {
    "id": "IfABppaxk-ON"
   },
   "outputs": [],
   "source": [
    "print(nBig =< nSmall)     # 오류"
   ]
  },
  {
   "cell_type": "code",
   "execution_count": null,
   "metadata": {
    "id": "DA7XT7wnlB_F"
   },
   "outputs": [],
   "source": [
    "print(nBig => nSmall)     # 오류"
   ]
  },
  {
   "cell_type": "code",
   "execution_count": null,
   "metadata": {
    "id": "DVROYkI9lNaG"
   },
   "outputs": [],
   "source": [
    "strData = 'data'               # 문자열 변수\n",
    "strSci = \"Science\"             # 문자열 변수"
   ]
  },
  {
   "cell_type": "code",
   "execution_count": null,
   "metadata": {
    "id": "NaMAk3PtlzIV"
   },
   "outputs": [],
   "source": [
    "strLecture = strData + strSci"
   ]
  },
  {
   "cell_type": "code",
   "execution_count": null,
   "metadata": {
    "id": "fNvDBOW_l5Js"
   },
   "outputs": [],
   "source": [
    "strLecture"
   ]
  },
  {
   "cell_type": "code",
   "execution_count": null,
   "metadata": {
    "id": "UiOs_EYim_kQ"
   },
   "outputs": [],
   "source": [
    "strLecture = strData +\" \"+ strSci\n",
    "strLecture"
   ]
  },
  {
   "cell_type": "code",
   "execution_count": null,
   "metadata": {
    "id": "fNYgLMlyl6m0"
   },
   "outputs": [],
   "source": [
    "strLecture.split()              # split()으로 공백을 기준으로 문자열 구분"
   ]
  },
  {
   "cell_type": "code",
   "execution_count": null,
   "metadata": {
    "id": "9ZOl1G39mS67"
   },
   "outputs": [],
   "source": [
    "lSeperate = strLecture.split() # split()으로 공백을 기준으로 문자열 구분아혀 lSeperate 변수에 저장"
   ]
  },
  {
   "cell_type": "code",
   "execution_count": null,
   "metadata": {
    "id": "QD2gG7RGnaDg"
   },
   "outputs": [],
   "source": [
    "type(lSeperate)"
   ]
  },
  {
   "cell_type": "code",
   "execution_count": null,
   "metadata": {
    "id": "7atr21kDnckf"
   },
   "outputs": [],
   "source": [
    "strHello = \"안녕하세요. 반갑습니다.\""
   ]
  },
  {
   "cell_type": "code",
   "execution_count": null,
   "metadata": {
    "id": "nxkcFPoRop4r"
   },
   "outputs": [],
   "source": [
    "strHello.find(\"반갑\")       # 문자열을 찾기 위해 find() 함수를 이용\n",
    "                            # 문자열을 있으면, 첫번째 시작 인덱스를 반환"
   ]
  },
  {
   "cell_type": "code",
   "execution_count": null,
   "metadata": {
    "id": "vQbveRmco1jt"
   },
   "outputs": [],
   "source": [
    "strHello.find(\"hello\")    # 문자열이 없으면, -1을 리턴"
   ]
  },
  {
   "cell_type": "code",
   "execution_count": null,
   "metadata": {
    "id": "ZqTNCqaFRZhe"
   },
   "outputs": [],
   "source": [
    "\"반갑\" in strHello          # in 명령어를 사용하여 확인 가능 : if 조건문에서 활용"
   ]
  },
  {
   "cell_type": "code",
   "execution_count": null,
   "metadata": {
    "id": "NC6udtvBpGmO"
   },
   "outputs": [],
   "source": [
    "strHello.replace('.', '?')    # .을 모두 ?로 변경"
   ]
  },
  {
   "cell_type": "code",
   "execution_count": null,
   "metadata": {
    "id": "Bobt015Bp-Im"
   },
   "outputs": [],
   "source": [
    "strHello.replace('.', '?')                  \n",
    "strHello.replace(\"하세요\", \"하셔유\")       # 안녕하셔유? 가 될까요?"
   ]
  },
  {
   "cell_type": "code",
   "execution_count": null,
   "metadata": {
    "id": "4PuFl27Vph1k"
   },
   "outputs": [],
   "source": [
    "strHello                      # 원본 데이터는 변하지 않음"
   ]
  },
  {
   "cell_type": "code",
   "execution_count": null,
   "metadata": {
    "id": "k0jWGeqPpjut"
   },
   "outputs": [],
   "source": [
    "strNewHello = strHello.replace('.', '?')                    # strHello를 replace하여 strNewHello에 저장   \n",
    "strNewHello = strNewHello.replace(\"하세요\", \"하셔유\")       # strNewHello를 replace하여 strNewHello에 저장\n",
    "strNewHello"
   ]
  },
  {
   "cell_type": "code",
   "execution_count": null,
   "metadata": {
    "id": "CTPN53u2qWMu"
   },
   "outputs": [],
   "source": [
    "strHello.strip('반갑습니다.')    # strip()함수를 이용하여 \"반갑습니다.\"를 제거"
   ]
  },
  {
   "cell_type": "code",
   "execution_count": null,
   "metadata": {
    "id": "JLjvm-NGriED"
   },
   "outputs": [],
   "source": [
    "strHello                    # 역시 원본 데이터는 변하지 않음"
   ]
  },
  {
   "cell_type": "code",
   "execution_count": null,
   "metadata": {
    "colab": {
     "base_uri": "https://localhost:8080/"
    },
    "id": "uqmkBIhqrnF8",
    "outputId": "a7a6de2f-fe6f-4524-94cc-ee30de3b734a"
   },
   "outputs": [
    {
     "name": "stdout",
     "output_type": "stream",
     "text": [
      "[1, 2, 3, 4, 5]\n",
      "type :  <class 'list'>\n"
     ]
    }
   ],
   "source": [
    "lnData = [1,2,3,4,5]     # lnData를 리스트로 생성\n",
    "print(lnData)\n",
    "print('type : ', type(lnData))"
   ]
  },
  {
   "cell_type": "code",
   "execution_count": null,
   "metadata": {
    "id": "OkyUZI6ptWKm"
   },
   "outputs": [],
   "source": [
    "print(lnData[0])    # lnData 리스트의 0번 인덱스의 값 출력\n",
    "print(lnData[3])    # lnData 리스트의 3번 인덱스의 값 출력"
   ]
  },
  {
   "cell_type": "code",
   "execution_count": null,
   "metadata": {
    "id": "mccR5e2SumRD"
   },
   "outputs": [],
   "source": [
    "lnData[0] = lnData[4]   # lnData[4]의 값을 lnData[0]에 저장\n",
    "print(lnData)           # lnData 리스트를 출력"
   ]
  },
  {
   "cell_type": "code",
   "execution_count": null,
   "metadata": {
    "id": "kjyPH8Z7vLv_"
   },
   "outputs": [],
   "source": [
    "print(lnData[2:4])      # lnData[4]에 저장된 5는 출력되지 않음"
   ]
  },
  {
   "cell_type": "code",
   "execution_count": null,
   "metadata": {
    "id": "Kga_6rUowVtj"
   },
   "outputs": [],
   "source": [
    "lnData = [1,2,3,4,5]\n",
    "lstrData=['a', 'b', 'c']\n",
    "\n",
    "# 두 개의 서로다른 자료형을 가진 리스트를 병합\n",
    "lnData + lstrData"
   ]
  },
  {
   "cell_type": "code",
   "execution_count": null,
   "metadata": {
    "id": "efDS8gC1yfGu"
   },
   "outputs": [],
   "source": [
    "lnData.append(10)   # 10을 맨 뒤에 추가\n",
    "lnData"
   ]
  },
  {
   "cell_type": "code",
   "execution_count": null,
   "metadata": {
    "id": "mn-Y9GnZzYPi"
   },
   "outputs": [],
   "source": [
    "lnData.insert(0, 'python')  #'python'문자열을 0번 인덱스에 추가하고, 기존 인덱스에 저장된 데이터는 하나씩 뒤로 밀림(인덱스가 +1 추가)\n",
    "lnData                      "
   ]
  },
  {
   "cell_type": "code",
   "execution_count": null,
   "metadata": {
    "id": "6ws9mj6izkei"
   },
   "outputs": [],
   "source": [
    "lnData.remove('python')     # 'python' 데이터를 삭제\n",
    "lnData"
   ]
  },
  {
   "cell_type": "code",
   "execution_count": null,
   "metadata": {
    "id": "BqAV3UU70OO-"
   },
   "outputs": [],
   "source": [
    "del lnData[5]              # del 명령어를 통해 인덱스를 지정하여 삭제\n",
    "lnData"
   ]
  },
  {
   "cell_type": "code",
   "execution_count": null,
   "metadata": {
    "id": "I_e3IDcf03wG"
   },
   "outputs": [],
   "source": [
    "lnData"
   ]
  },
  {
   "cell_type": "code",
   "execution_count": null,
   "metadata": {
    "id": "WppyjzEe1brd"
   },
   "outputs": [],
   "source": [
    "lnData.pop(0)     # 0번 인덱스의 데이터를 삭제\n",
    "lnData"
   ]
  },
  {
   "cell_type": "code",
   "execution_count": null,
   "metadata": {
    "id": "EPOJSDhQ1p8u"
   },
   "outputs": [],
   "source": [
    "lnData.pop()     # 인덱스 지정이 없으면, 마지막 인덱스의 값을 삭제\n",
    "lnData"
   ]
  },
  {
   "cell_type": "code",
   "execution_count": null,
   "metadata": {
    "id": "dgvWCTS92P4n"
   },
   "outputs": [],
   "source": [
    "lnData.clear()  # 리스트의 모든 데이터를 삭제\n",
    "lnData"
   ]
  },
  {
   "cell_type": "code",
   "execution_count": null,
   "metadata": {
    "colab": {
     "base_uri": "https://localhost:8080/"
    },
    "id": "WQwvaJXnANcD",
    "outputId": "52b054e7-5fbf-4cb0-d5ce-473fce0dbc63"
   },
   "outputs": [
    {
     "name": "stdout",
     "output_type": "stream",
     "text": [
      "('사과', '딸기', '바나나', '토마토', '키위')\n",
      "<class 'tuple'>\n"
     ]
    }
   ],
   "source": [
    "# 튜플의 기본 구조\n",
    "tVal = (\"사과\", \"딸기\", \"바나나\", \"토마토\", \"키위\")\n",
    "\n",
    "print(tVal)\n",
    "print(type(tVal))"
   ]
  },
  {
   "cell_type": "code",
   "execution_count": 1,
   "metadata": {
    "colab": {
     "base_uri": "https://localhost:8080/",
     "height": 191
    },
    "id": "JaB__y-sAfmq",
    "outputId": "bb896a48-349a-4d3c-8def-6da662fecbc1"
   },
   "outputs": [
    {
     "ename": "NameError",
     "evalue": "name 'tVal' is not defined",
     "output_type": "error",
     "traceback": [
      "\u001b[1;31m---------------------------------------------------------------------------\u001b[0m",
      "\u001b[1;31mNameError\u001b[0m                                 Traceback (most recent call last)",
      "\u001b[1;32m~\\AppData\\Local\\Temp/ipykernel_2732/993854765.py\u001b[0m in \u001b[0;36m<module>\u001b[1;34m\u001b[0m\n\u001b[0;32m      1\u001b[0m \u001b[1;31m# 튜플에 저장된 데이터는 변경이 불가능\u001b[0m\u001b[1;33m\u001b[0m\u001b[1;33m\u001b[0m\u001b[0m\n\u001b[1;32m----> 2\u001b[1;33m \u001b[0mtVal\u001b[0m\u001b[1;33m[\u001b[0m\u001b[1;36m0\u001b[0m\u001b[1;33m]\u001b[0m \u001b[1;33m=\u001b[0m \u001b[1;34m\"포도\"\u001b[0m\u001b[1;33m\u001b[0m\u001b[1;33m\u001b[0m\u001b[0m\n\u001b[0m",
      "\u001b[1;31mNameError\u001b[0m: name 'tVal' is not defined"
     ]
    }
   ],
   "source": [
    "# 튜플에 저장된 데이터는 변경이 불가능\n",
    "tVal[0] = \"포도\""
   ]
  },
  {
   "cell_type": "code",
   "execution_count": 2,
   "metadata": {
    "colab": {
     "base_uri": "https://localhost:8080/"
    },
    "id": "cWrLNTPWAvrB",
    "outputId": "0fcdbd30-4ebb-4a8c-e737-9aee346a0f57"
   },
   "outputs": [
    {
     "data": {
      "text/plain": [
       "3"
      ]
     },
     "execution_count": 2,
     "metadata": {},
     "output_type": "execute_result"
    }
   ],
   "source": [
    "# count() 함수를 이용하여 튜플에 저장된 특정 데이터의 개수를 확인\n",
    "tData = ( 1, 2, 3, 1, 2, 3, 4, 5, 1, 2, 7)\n",
    "tData.count(1)"
   ]
  },
  {
   "cell_type": "code",
   "execution_count": null,
   "metadata": {
    "colab": {
     "base_uri": "https://localhost:8080/"
    },
    "id": "QlU2l52fBOph",
    "outputId": "bbdd402f-789f-48e3-8fdc-7f2e487de5da"
   },
   "outputs": [
    {
     "data": {
      "text/plain": [
       "5"
      ]
     },
     "execution_count": 5,
     "metadata": {},
     "output_type": "execute_result"
    }
   ],
   "source": [
    "# len()함수를 이용하여 튜플에 저장된 전체 데이터 개수를 확인\n",
    "len(tVal)"
   ]
  },
  {
   "cell_type": "code",
   "execution_count": null,
   "metadata": {
    "colab": {
     "base_uri": "https://localhost:8080/"
    },
    "id": "Mp8h_el_B3GB",
    "outputId": "f89aa9b8-f115-4219-ef7e-4700bdb480c5"
   },
   "outputs": [
    {
     "data": {
      "text/plain": [
       "11"
      ]
     },
     "execution_count": 6,
     "metadata": {},
     "output_type": "execute_result"
    }
   ],
   "source": [
    "len(tData)"
   ]
  },
  {
   "cell_type": "code",
   "execution_count": null,
   "metadata": {
    "colab": {
     "base_uri": "https://localhost:8080/"
    },
    "id": "sptq82B4B5RZ",
    "outputId": "bfc086e6-64e0-407c-8643-19eb9b20695e"
   },
   "outputs": [
    {
     "name": "stdout",
     "output_type": "stream",
     "text": [
      "(3, 1, 2)\n"
     ]
    }
   ],
   "source": [
    "print(tData[2:5])"
   ]
  },
  {
   "cell_type": "code",
   "execution_count": null,
   "metadata": {
    "colab": {
     "base_uri": "https://localhost:8080/"
    },
    "id": "ZSLcdcZyCrNV",
    "outputId": "3778635b-06d1-4672-c677-faca0933f7ee"
   },
   "outputs": [
    {
     "name": "stdout",
     "output_type": "stream",
     "text": [
      "('사과', '딸기', '바나나', '토마토', '키위', 1, 2, 3, 1, 2, 3, 4, 5, 1, 2, 7)\n"
     ]
    }
   ],
   "source": [
    "tTuple = tVal+ tData\n",
    "print(tTuple)"
   ]
  },
  {
   "cell_type": "code",
   "execution_count": null,
   "metadata": {
    "colab": {
     "base_uri": "https://localhost:8080/"
    },
    "id": "MmCxI_YhDbZK",
    "outputId": "54874db0-4ee7-4203-91ec-b602a8b8fe5c"
   },
   "outputs": [
    {
     "data": {
      "text/plain": [
       "(1, 2, 3, 1, 2, 3, 4, 5, 1, 2, 7, 1, 2, 3, 1, 2, 3, 4, 5, 1, 2, 7)"
      ]
     },
     "execution_count": 11,
     "metadata": {},
     "output_type": "execute_result"
    }
   ],
   "source": [
    "tData * 2"
   ]
  },
  {
   "cell_type": "code",
   "execution_count": null,
   "metadata": {
    "colab": {
     "base_uri": "https://localhost:8080/"
    },
    "id": "JpTvGMqNgG79",
    "outputId": "8c23525d-5bef-4123-ca1b-278f769c2cff"
   },
   "outputs": [
    {
     "data": {
      "text/plain": [
       "(1, 2, 3, 1, 2, 3, 4, 5, 1, 2, 7)"
      ]
     },
     "execution_count": 12,
     "metadata": {},
     "output_type": "execute_result"
    }
   ],
   "source": [
    "tData"
   ]
  },
  {
   "cell_type": "code",
   "execution_count": null,
   "metadata": {
    "colab": {
     "base_uri": "https://localhost:8080/"
    },
    "id": "BIZ8l4IrgLr8",
    "outputId": "52aa7f99-d947-4008-bf2d-5802b6fa5c44"
   },
   "outputs": [
    {
     "name": "stdout",
     "output_type": "stream",
     "text": [
      "(1, 2, 3, 1, 2, 3, 4, 5, 1, 2, 7, 1, 2, 3, 1, 2, 3, 4, 5, 1, 2, 7, 1, 2, 3, 1, 2, 3, 4, 5, 1, 2, 7, 1, 2, 3, 1, 2, 3, 4, 5, 1, 2, 7, 1, 2, 3, 1, 2, 3, 4, 5, 1, 2, 7, 1, 2, 3, 1, 2, 3, 4, 5, 1, 2, 7, 1, 2, 3, 1, 2, 3, 4, 5, 1, 2, 7, 1, 2, 3, 1, 2, 3, 4, 5, 1, 2, 7, 1, 2, 3, 1, 2, 3, 4, 5, 1, 2, 7, 1, 2, 3, 1, 2, 3, 4, 5, 1, 2, 7, 1, 2, 3, 1, 2, 3, 4, 5, 1, 2, 7, 1, 2, 3, 1, 2, 3, 4, 5, 1, 2, 7, 1, 2, 3, 1, 2, 3, 4, 5, 1, 2, 7, 1, 2, 3, 1, 2, 3, 4, 5, 1, 2, 7, 1, 2, 3, 1, 2, 3, 4, 5, 1, 2, 7, 1, 2, 3, 1, 2, 3, 4, 5, 1, 2, 7)\n"
     ]
    }
   ],
   "source": [
    "tData2 = tData * 2\n",
    "print(tData2)"
   ]
  },
  {
   "cell_type": "code",
   "execution_count": null,
   "metadata": {
    "colab": {
     "base_uri": "https://localhost:8080/"
    },
    "id": "wFO8n4ghgOcF",
    "outputId": "c8ec468d-0702-495a-bd2d-02f742d9724a"
   },
   "outputs": [
    {
     "name": "stdout",
     "output_type": "stream",
     "text": [
      "tVal memory =  0x3579020\n",
      "tVal memory =  0x4276c20\n",
      "('사과', '딸기', '바나나', '토마토', '키위', '사과', '딸기', '바나나', '토마토', '키위', '사과', '딸기', '바나나', '토마토', '키위', '사과', '딸기', '바나나', '토마토', '키위', '귤', '귤', '귤', '사과', '딸기', '바나나', '토마토', '키위', '사과', '딸기', '바나나', '토마토', '키위', '사과', '딸기', '바나나', '토마토', '키위', '사과', '딸기', '바나나', '토마토', '키위', '귤', '귤', '귤', '사과', '딸기', '바나나', '토마토', '키위', '사과', '딸기', '바나나', '토마토', '키위', '사과', '딸기', '바나나', '토마토', '키위', '사과', '딸기', '바나나', '토마토', '키위', '귤', '귤', '귤', '사과', '딸기', '바나나', '토마토', '키위', '사과', '딸기', '바나나', '토마토', '키위', '사과', '딸기', '바나나', '토마토', '키위', '사과', '딸기', '바나나', '토마토', '키위', '귤', '귤', '귤', '사과', '딸기', '바나나', '토마토', '키위', '사과', '딸기', '바나나', '토마토', '키위', '사과', '딸기', '바나나', '토마토', '키위', '사과', '딸기', '바나나', '토마토', '키위', '귤', '귤', '귤', '사과', '딸기', '바나나', '토마토', '키위', '사과', '딸기', '바나나', '토마토', '키위', '사과', '딸기', '바나나', '토마토', '키위', '사과', '딸기', '바나나', '토마토', '키위', '귤', '귤', '귤', '사과', '딸기', '바나나', '토마토', '키위', '사과', '딸기', '바나나', '토마토', '키위', '사과', '딸기', '바나나', '토마토', '키위', '사과', '딸기', '바나나', '토마토', '키위', '귤', '귤', '귤', '사과', '딸기', '바나나', '토마토', '키위', '사과', '딸기', '바나나', '토마토', '키위', '사과', '딸기', '바나나', '토마토', '키위', '사과', '딸기', '바나나', '토마토', '키위', '귤', '귤', '귤', '사과', '딸기', '바나나', '토마토', '키위', '사과', '딸기', '바나나', '토마토', '키위', '사과', '딸기', '바나나', '토마토', '키위', '사과', '딸기', '바나나', '토마토', '키위', '귤', '귤', '귤', '사과', '딸기', '바나나', '토마토', '키위', '사과', '딸기', '바나나', '토마토', '키위', '사과', '딸기', '바나나', '토마토', '키위', '사과', '딸기', '바나나', '토마토', '키위', '귤', '귤', '귤', '사과', '딸기', '바나나', '토마토', '키위', '사과', '딸기', '바나나', '토마토', '키위', '사과', '딸기', '바나나', '토마토', '키위', '사과', '딸기', '바나나', '토마토', '키위', '귤', '귤', '귤', '사과', '딸기', '바나나', '토마토', '키위', '사과', '딸기', '바나나', '토마토', '키위', '사과', '딸기', '바나나', '토마토', '키위', '사과', '딸기', '바나나', '토마토', '키위', '귤', '귤', '귤', '사과', '딸기', '바나나', '토마토', '키위', '사과', '딸기', '바나나', '토마토', '키위', '사과', '딸기', '바나나', '토마토', '키위', '사과', '딸기', '바나나', '토마토', '키위', '귤', '귤', '귤', '사과', '딸기', '바나나', '토마토', '키위', '사과', '딸기', '바나나', '토마토', '키위', '사과', '딸기', '바나나', '토마토', '키위', '사과', '딸기', '바나나', '토마토', '키위', '귤', '귤', '귤', '사과', '딸기', '바나나', '토마토', '키위', '사과', '딸기', '바나나', '토마토', '키위', '사과', '딸기', '바나나', '토마토', '키위', '사과', '딸기', '바나나', '토마토', '키위', '귤', '귤', '귤', '사과', '딸기', '바나나', '토마토', '키위', '사과', '딸기', '바나나', '토마토', '키위', '사과', '딸기', '바나나', '토마토', '키위', '사과', '딸기', '바나나', '토마토', '키위', '귤', '귤', '귤')\n"
     ]
    }
   ],
   "source": [
    "print(\"tVal memory = \", hex(id(tVal)))\n",
    "tVal = tVal * 2\n",
    "print(\"tVal memory = \", hex(id(tVal)))\n",
    "print(tVal)"
   ]
  },
  {
   "cell_type": "code",
   "execution_count": null,
   "metadata": {
    "colab": {
     "base_uri": "https://localhost:8080/"
    },
    "id": "R4lCRLkZgXms",
    "outputId": "76f1b8fe-6c16-43cf-b703-b13ce5e32a4d"
   },
   "outputs": [
    {
     "name": "stdout",
     "output_type": "stream",
     "text": [
      "tVal memory =  0x4276c20\n",
      "tVal memory =  0x3ccc820\n",
      "('사과', '딸기', '바나나', '토마토', '키위', '사과', '딸기', '바나나', '토마토', '키위', '사과', '딸기', '바나나', '토마토', '키위', '사과', '딸기', '바나나', '토마토', '키위', '귤', '귤', '귤', '사과', '딸기', '바나나', '토마토', '키위', '사과', '딸기', '바나나', '토마토', '키위', '사과', '딸기', '바나나', '토마토', '키위', '사과', '딸기', '바나나', '토마토', '키위', '귤', '귤', '귤', '사과', '딸기', '바나나', '토마토', '키위', '사과', '딸기', '바나나', '토마토', '키위', '사과', '딸기', '바나나', '토마토', '키위', '사과', '딸기', '바나나', '토마토', '키위', '귤', '귤', '귤', '사과', '딸기', '바나나', '토마토', '키위', '사과', '딸기', '바나나', '토마토', '키위', '사과', '딸기', '바나나', '토마토', '키위', '사과', '딸기', '바나나', '토마토', '키위', '귤', '귤', '귤', '사과', '딸기', '바나나', '토마토', '키위', '사과', '딸기', '바나나', '토마토', '키위', '사과', '딸기', '바나나', '토마토', '키위', '사과', '딸기', '바나나', '토마토', '키위', '귤', '귤', '귤', '사과', '딸기', '바나나', '토마토', '키위', '사과', '딸기', '바나나', '토마토', '키위', '사과', '딸기', '바나나', '토마토', '키위', '사과', '딸기', '바나나', '토마토', '키위', '귤', '귤', '귤', '사과', '딸기', '바나나', '토마토', '키위', '사과', '딸기', '바나나', '토마토', '키위', '사과', '딸기', '바나나', '토마토', '키위', '사과', '딸기', '바나나', '토마토', '키위', '귤', '귤', '귤', '사과', '딸기', '바나나', '토마토', '키위', '사과', '딸기', '바나나', '토마토', '키위', '사과', '딸기', '바나나', '토마토', '키위', '사과', '딸기', '바나나', '토마토', '키위', '귤', '귤', '귤', '사과', '딸기', '바나나', '토마토', '키위', '사과', '딸기', '바나나', '토마토', '키위', '사과', '딸기', '바나나', '토마토', '키위', '사과', '딸기', '바나나', '토마토', '키위', '귤', '귤', '귤', '사과', '딸기', '바나나', '토마토', '키위', '사과', '딸기', '바나나', '토마토', '키위', '사과', '딸기', '바나나', '토마토', '키위', '사과', '딸기', '바나나', '토마토', '키위', '귤', '귤', '귤', '사과', '딸기', '바나나', '토마토', '키위', '사과', '딸기', '바나나', '토마토', '키위', '사과', '딸기', '바나나', '토마토', '키위', '사과', '딸기', '바나나', '토마토', '키위', '귤', '귤', '귤', '사과', '딸기', '바나나', '토마토', '키위', '사과', '딸기', '바나나', '토마토', '키위', '사과', '딸기', '바나나', '토마토', '키위', '사과', '딸기', '바나나', '토마토', '키위', '귤', '귤', '귤', '사과', '딸기', '바나나', '토마토', '키위', '사과', '딸기', '바나나', '토마토', '키위', '사과', '딸기', '바나나', '토마토', '키위', '사과', '딸기', '바나나', '토마토', '키위', '귤', '귤', '귤', '사과', '딸기', '바나나', '토마토', '키위', '사과', '딸기', '바나나', '토마토', '키위', '사과', '딸기', '바나나', '토마토', '키위', '사과', '딸기', '바나나', '토마토', '키위', '귤', '귤', '귤', '사과', '딸기', '바나나', '토마토', '키위', '사과', '딸기', '바나나', '토마토', '키위', '사과', '딸기', '바나나', '토마토', '키위', '사과', '딸기', '바나나', '토마토', '키위', '귤', '귤', '귤', '사과', '딸기', '바나나', '토마토', '키위', '사과', '딸기', '바나나', '토마토', '키위', '사과', '딸기', '바나나', '토마토', '키위', '사과', '딸기', '바나나', '토마토', '키위', '귤', '귤', '귤', '사과', '딸기', '바나나', '토마토', '키위', '사과', '딸기', '바나나', '토마토', '키위', '사과', '딸기', '바나나', '토마토', '키위', '사과', '딸기', '바나나', '토마토', '키위', '귤', '귤', '귤', '사과', '딸기', '바나나', '토마토', '키위', '사과', '딸기', '바나나', '토마토', '키위', '사과', '딸기', '바나나', '토마토', '키위', '사과', '딸기', '바나나', '토마토', '키위', '귤', '귤', '귤', '사과', '딸기', '바나나', '토마토', '키위', '사과', '딸기', '바나나', '토마토', '키위', '사과', '딸기', '바나나', '토마토', '키위', '사과', '딸기', '바나나', '토마토', '키위', '귤', '귤', '귤', '사과', '딸기', '바나나', '토마토', '키위', '사과', '딸기', '바나나', '토마토', '키위', '사과', '딸기', '바나나', '토마토', '키위', '사과', '딸기', '바나나', '토마토', '키위', '귤', '귤', '귤', '사과', '딸기', '바나나', '토마토', '키위', '사과', '딸기', '바나나', '토마토', '키위', '사과', '딸기', '바나나', '토마토', '키위', '사과', '딸기', '바나나', '토마토', '키위', '귤', '귤', '귤', '사과', '딸기', '바나나', '토마토', '키위', '사과', '딸기', '바나나', '토마토', '키위', '사과', '딸기', '바나나', '토마토', '키위', '사과', '딸기', '바나나', '토마토', '키위', '귤', '귤', '귤', '사과', '딸기', '바나나', '토마토', '키위', '사과', '딸기', '바나나', '토마토', '키위', '사과', '딸기', '바나나', '토마토', '키위', '사과', '딸기', '바나나', '토마토', '키위', '귤', '귤', '귤', '사과', '딸기', '바나나', '토마토', '키위', '사과', '딸기', '바나나', '토마토', '키위', '사과', '딸기', '바나나', '토마토', '키위', '사과', '딸기', '바나나', '토마토', '키위', '귤', '귤', '귤', '사과', '딸기', '바나나', '토마토', '키위', '사과', '딸기', '바나나', '토마토', '키위', '사과', '딸기', '바나나', '토마토', '키위', '사과', '딸기', '바나나', '토마토', '키위', '귤', '귤', '귤', '사과', '딸기', '바나나', '토마토', '키위', '사과', '딸기', '바나나', '토마토', '키위', '사과', '딸기', '바나나', '토마토', '키위', '사과', '딸기', '바나나', '토마토', '키위', '귤', '귤', '귤', '사과', '딸기', '바나나', '토마토', '키위', '사과', '딸기', '바나나', '토마토', '키위', '사과', '딸기', '바나나', '토마토', '키위', '사과', '딸기', '바나나', '토마토', '키위', '귤', '귤', '귤', '사과', '딸기', '바나나', '토마토', '키위', '사과', '딸기', '바나나', '토마토', '키위', '사과', '딸기', '바나나', '토마토', '키위', '사과', '딸기', '바나나', '토마토', '키위', '귤', '귤', '귤', '사과', '딸기', '바나나', '토마토', '키위', '사과', '딸기', '바나나', '토마토', '키위', '사과', '딸기', '바나나', '토마토', '키위', '사과', '딸기', '바나나', '토마토', '키위', '귤', '귤', '귤', '사과', '딸기', '바나나', '토마토', '키위', '사과', '딸기', '바나나', '토마토', '키위', '사과', '딸기', '바나나', '토마토', '키위', '사과', '딸기', '바나나', '토마토', '키위', '귤', '귤', '귤', '사과', '딸기', '바나나', '토마토', '키위', '사과', '딸기', '바나나', '토마토', '키위', '사과', '딸기', '바나나', '토마토', '키위', '사과', '딸기', '바나나', '토마토', '키위', '귤', '귤', '귤', '사과', '딸기', '바나나', '토마토', '키위', '사과', '딸기', '바나나', '토마토', '키위', '사과', '딸기', '바나나', '토마토', '키위', '사과', '딸기', '바나나', '토마토', '키위', '귤', '귤', '귤')\n"
     ]
    }
   ],
   "source": [
    "print(\"tVal memory = \", hex(id(tVal)))\n",
    "tVal = tVal + tVal\n",
    "print(\"tVal memory = \", hex(id(tVal)))\n",
    "print(tVal)"
   ]
  },
  {
   "cell_type": "code",
   "execution_count": null,
   "metadata": {
    "colab": {
     "base_uri": "https://localhost:8080/"
    },
    "id": "jbDqOscEhBLe",
    "outputId": "8c4c7419-643d-4bd1-d6d9-fff06d83b1af"
   },
   "outputs": [
    {
     "name": "stdout",
     "output_type": "stream",
     "text": [
      "{1, 2, 3}\n",
      "<class 'set'>\n"
     ]
    }
   ],
   "source": [
    "sVal = {1, 2, 3, 4, 5}\n",
    "print(sVal)\n",
    "print(type(sVal))"
   ]
  },
  {
   "cell_type": "code",
   "execution_count": null,
   "metadata": {
    "colab": {
     "base_uri": "https://localhost:8080/",
     "height": 173
    },
    "id": "HiHJud0Ljves",
    "outputId": "c098a3eb-c905-4d28-e6ea-454395eb3161"
   },
   "outputs": [
    {
     "ename": "TypeError",
     "evalue": "ignored",
     "output_type": "error",
     "traceback": [
      "\u001b[0;31m---------------------------------------------------------------------------\u001b[0m",
      "\u001b[0;31mTypeError\u001b[0m                                 Traceback (most recent call last)",
      "\u001b[0;32m<ipython-input-32-5e16076670ae>\u001b[0m in \u001b[0;36m<module>\u001b[0;34m\u001b[0m\n\u001b[0;32m----> 1\u001b[0;31m \u001b[0msVal\u001b[0m\u001b[0;34m[\u001b[0m\u001b[0;36m1\u001b[0m\u001b[0;34m:\u001b[0m\u001b[0;36m2\u001b[0m\u001b[0;34m]\u001b[0m\u001b[0;34m\u001b[0m\u001b[0;34m\u001b[0m\u001b[0m\n\u001b[0m",
      "\u001b[0;31mTypeError\u001b[0m: 'set' object is not subscriptable"
     ]
    }
   ],
   "source": [
    "sVal[1:2]"
   ]
  },
  {
   "cell_type": "code",
   "execution_count": null,
   "metadata": {
    "colab": {
     "base_uri": "https://localhost:8080/"
    },
    "id": "UV7hxbo7kC9L",
    "outputId": "d1c61125-c175-4bcc-d897-afd5ab30b236"
   },
   "outputs": [
    {
     "name": "stdout",
     "output_type": "stream",
     "text": [
      "{1, 2, 3, 100}\n"
     ]
    }
   ],
   "source": [
    "# add 함수를 이용하여 데이터를 추가할 수 있음\n",
    "sVal.add(100)\n",
    "print(sVal)"
   ]
  },
  {
   "cell_type": "code",
   "execution_count": null,
   "metadata": {
    "colab": {
     "base_uri": "https://localhost:8080/"
    },
    "id": "YLJAk3hSkh3k",
    "outputId": "41df5f9e-8f56-4a7d-fdd3-3da1eab30a21"
   },
   "outputs": [
    {
     "name": "stdout",
     "output_type": "stream",
     "text": [
      "{1, 2, 3, 100, 200, 300}\n"
     ]
    }
   ],
   "source": [
    "# update 함수를 이용하여 여러개의 데이터를 추가할 수 있음\n",
    "sVal.update([200, 300])\n",
    "print(sVal)"
   ]
  },
  {
   "cell_type": "code",
   "execution_count": null,
   "metadata": {
    "colab": {
     "base_uri": "https://localhost:8080/",
     "height": 210
    },
    "id": "fUygAhknk2VM",
    "outputId": "8af6e6e7-cc14-418f-af44-8a98a4fb54e4"
   },
   "outputs": [
    {
     "ename": "KeyError",
     "evalue": "ignored",
     "output_type": "error",
     "traceback": [
      "\u001b[0;31m---------------------------------------------------------------------------\u001b[0m",
      "\u001b[0;31mKeyError\u001b[0m                                  Traceback (most recent call last)",
      "\u001b[0;32m<ipython-input-39-c7477a8fe3cd>\u001b[0m in \u001b[0;36m<module>\u001b[0;34m\u001b[0m\n\u001b[1;32m      1\u001b[0m \u001b[0;31m# remove 함수를 이용하여 데이터를 삭제할 수 있음\u001b[0m\u001b[0;34m\u001b[0m\u001b[0;34m\u001b[0m\u001b[0;34m\u001b[0m\u001b[0m\n\u001b[0;32m----> 2\u001b[0;31m \u001b[0msVal\u001b[0m\u001b[0;34m.\u001b[0m\u001b[0mremove\u001b[0m\u001b[0;34m(\u001b[0m\u001b[0;36m200\u001b[0m\u001b[0;34m)\u001b[0m\u001b[0;34m\u001b[0m\u001b[0;34m\u001b[0m\u001b[0m\n\u001b[0m\u001b[1;32m      3\u001b[0m \u001b[0mprint\u001b[0m\u001b[0;34m(\u001b[0m\u001b[0msVal\u001b[0m\u001b[0;34m)\u001b[0m\u001b[0;34m\u001b[0m\u001b[0;34m\u001b[0m\u001b[0m\n",
      "\u001b[0;31mKeyError\u001b[0m: 200"
     ]
    }
   ],
   "source": [
    "# remove 함수를 이용하여 데이터를 삭제할 수 있음\n",
    "sVal.remove(200)\n",
    "print(sVal)"
   ]
  },
  {
   "cell_type": "code",
   "execution_count": null,
   "metadata": {
    "colab": {
     "base_uri": "https://localhost:8080/"
    },
    "id": "Fm7J9bUElGZE",
    "outputId": "5f59c46f-085b-4f6a-c8d8-6bcd29779118"
   },
   "outputs": [
    {
     "name": "stdout",
     "output_type": "stream",
     "text": [
      "set()\n"
     ]
    }
   ],
   "source": [
    "# clear() 함수를 이용하여 데이터를 초기화 할 수 있음\n",
    "sVal.clear()\n",
    "print(sVal)"
   ]
  },
  {
   "cell_type": "code",
   "execution_count": null,
   "metadata": {
    "colab": {
     "base_uri": "https://localhost:8080/"
    },
    "id": "unKzh-M7lSF0",
    "outputId": "35e94780-01a7-4bf3-acb1-abe720953f8b"
   },
   "outputs": [
    {
     "name": "stdout",
     "output_type": "stream",
     "text": [
      "{100, 200, 300, 400, 500}\n",
      "{100, 'b', 300, 'c', 'a'}\n"
     ]
    }
   ],
   "source": [
    "sVal = {100, 200, 300, 400, 500}\n",
    "sData = {\"a\", \"b\", \"c\", \"c\", 100, 300}\n",
    "print(sVal)\n",
    "print(sData)"
   ]
  },
  {
   "cell_type": "code",
   "execution_count": null,
   "metadata": {
    "colab": {
     "base_uri": "https://localhost:8080/"
    },
    "id": "2Y4FDRZel0QE",
    "outputId": "236b690e-228a-482c-ead1-c9a85822340b"
   },
   "outputs": [
    {
     "data": {
      "text/plain": [
       "{100, 300}"
      ]
     },
     "execution_count": 47,
     "metadata": {},
     "output_type": "execute_result"
    }
   ],
   "source": [
    "# intersection() 함수를 이용하여 교집합을 만들 수 있음\n",
    "sVal.intersection(sData)"
   ]
  },
  {
   "cell_type": "code",
   "execution_count": null,
   "metadata": {
    "colab": {
     "base_uri": "https://localhost:8080/"
    },
    "id": "g1BL5UxRma2T",
    "outputId": "d2821101-3a98-4473-d26d-f9d7b9bd1179"
   },
   "outputs": [
    {
     "data": {
      "text/plain": [
       "{200, 400, 500}"
      ]
     },
     "execution_count": 48,
     "metadata": {},
     "output_type": "execute_result"
    }
   ],
   "source": [
    "# deference() 함수를 이용하여 차집합을 만들 수 있음\n",
    "sVal.difference(sData)"
   ]
  },
  {
   "cell_type": "code",
   "execution_count": null,
   "metadata": {
    "colab": {
     "base_uri": "https://localhost:8080/"
    },
    "id": "aUzg3dyrmj_U",
    "outputId": "ab28a591-d658-4510-ca48-ce903de9cf7e"
   },
   "outputs": [
    {
     "data": {
      "text/plain": [
       "{200, 400, 500}"
      ]
     },
     "execution_count": 49,
     "metadata": {},
     "output_type": "execute_result"
    }
   ],
   "source": [
    "# \"-\" 연산자로도 가능\n",
    "sVal - sData"
   ]
  },
  {
   "cell_type": "code",
   "execution_count": null,
   "metadata": {
    "colab": {
     "base_uri": "https://localhost:8080/"
    },
    "id": "rdXlYjodml_E",
    "outputId": "7be2b623-c458-44c2-b205-1c339cf0e764"
   },
   "outputs": [
    {
     "data": {
      "text/plain": [
       "{100, 200, 300, 400, 500, 'a', 'b', 'c'}"
      ]
     },
     "execution_count": 50,
     "metadata": {},
     "output_type": "execute_result"
    }
   ],
   "source": [
    "# union() 함수를 이용하여 합집합을 만들 수 있음\n",
    "sVal.union(sData)"
   ]
  },
  {
   "cell_type": "code",
   "execution_count": null,
   "metadata": {
    "colab": {
     "base_uri": "https://localhost:8080/",
     "height": 191
    },
    "id": "RDoVWnNSmyyU",
    "outputId": "a57adb49-8308-454e-9d2e-90857e19ea29"
   },
   "outputs": [
    {
     "ename": "TypeError",
     "evalue": "ignored",
     "output_type": "error",
     "traceback": [
      "\u001b[0;31m---------------------------------------------------------------------------\u001b[0m",
      "\u001b[0;31mTypeError\u001b[0m                                 Traceback (most recent call last)",
      "\u001b[0;32m<ipython-input-51-434dea5769f5>\u001b[0m in \u001b[0;36m<module>\u001b[0;34m\u001b[0m\n\u001b[1;32m      1\u001b[0m \u001b[0;31m# \"+\"연산자로도 가능\u001b[0m\u001b[0;34m\u001b[0m\u001b[0;34m\u001b[0m\u001b[0;34m\u001b[0m\u001b[0m\n\u001b[0;32m----> 2\u001b[0;31m \u001b[0msVal\u001b[0m \u001b[0;34m+\u001b[0m \u001b[0msData\u001b[0m\u001b[0;34m\u001b[0m\u001b[0;34m\u001b[0m\u001b[0m\n\u001b[0m",
      "\u001b[0;31mTypeError\u001b[0m: unsupported operand type(s) for +: 'set' and 'set'"
     ]
    }
   ],
   "source": [
    "# \"+\"연산자는 불가능\n",
    "sVal + sData"
   ]
  },
  {
   "cell_type": "code",
   "execution_count": null,
   "metadata": {
    "colab": {
     "base_uri": "https://localhost:8080/"
    },
    "id": "v_E-N9Q9m3RU",
    "outputId": "8dc35019-309f-43e2-c411-9c2a5053bc8f"
   },
   "outputs": [
    {
     "data": {
      "text/plain": [
       "{200, 400, 500, 'a', 'b', 'c'}"
      ]
     },
     "execution_count": 52,
     "metadata": {},
     "output_type": "execute_result"
    }
   ],
   "source": [
    "# symetric_difference()를 이용하여 합집합에서 교집합을 뺀 집합을 만들 ㅅ ㅜ있음\n",
    "sVal.symmetric_difference(sData)"
   ]
  },
  {
   "cell_type": "code",
   "execution_count": 2,
   "metadata": {
    "colab": {
     "base_uri": "https://localhost:8080/"
    },
    "id": "T_62cvKVnUqU",
    "outputId": "a1c38eff-93af-43f7-e9c9-4e264f2aa936"
   },
   "outputs": [
    {
     "name": "stdout",
     "output_type": "stream",
     "text": [
      "{'name': '이컴공', 'email': 'computer@hoseo.edu', 'address': '충남 아산시'}\n",
      "<class 'dict'>\n"
     ]
    }
   ],
   "source": [
    "# 딕셔너리 기본 구조는 다음과 같이 표현할 수 있음\n",
    "dVal = {\n",
    "    'name' : '이컴공',\n",
    "    'email' : 'computer@hoseo.edu',\n",
    "    'address' : '충남 아산시'\n",
    "}\n",
    "print(dVal)\n",
    "print(type(dVal))"
   ]
  },
  {
   "cell_type": "code",
   "execution_count": 3,
   "metadata": {
    "id": "mMXkVIrnGSBz"
   },
   "outputs": [],
   "source": [
    "dData = {\n",
    "    \"사과\" : 300, \n",
    "    \"포도\" : 200, \n",
    "    \"배\" : 500,\n",
    "    \"키위\" : 100\n",
    "}"
   ]
  },
  {
   "cell_type": "code",
   "execution_count": 4,
   "metadata": {
    "colab": {
     "base_uri": "https://localhost:8080/"
    },
    "id": "oQbwXQhWG8m5",
    "outputId": "9e3e715c-fd37-443e-c2b2-55d593e8711b"
   },
   "outputs": [
    {
     "name": "stdout",
     "output_type": "stream",
     "text": [
      "500\n"
     ]
    }
   ],
   "source": [
    "# 키를 이용한 항목 검색\n",
    "print(dData[\"배\"])"
   ]
  },
  {
   "cell_type": "code",
   "execution_count": 5,
   "metadata": {
    "colab": {
     "base_uri": "https://localhost:8080/"
    },
    "id": "njHi1yw8HC9N",
    "outputId": "147a3af2-e8bd-4637-a641-9d2749bfb1c6"
   },
   "outputs": [
    {
     "data": {
      "text/plain": [
       "500"
      ]
     },
     "execution_count": 5,
     "metadata": {},
     "output_type": "execute_result"
    }
   ],
   "source": [
    "# get() 함수를 이용한 항목 검색\n",
    "dData.get(\"배\")"
   ]
  },
  {
   "cell_type": "code",
   "execution_count": 6,
   "metadata": {
    "colab": {
     "base_uri": "https://localhost:8080/"
    },
    "id": "MhzGk2V-HI_O",
    "outputId": "1279ff55-bc72-44de-86c2-c448d3f859ff"
   },
   "outputs": [
    {
     "name": "stdout",
     "output_type": "stream",
     "text": [
      "{'사과': 300, '포도': 200, '배': 500, '키위': 100, '딸기': 100}\n"
     ]
    }
   ],
   "source": [
    "# 새로운 키 추가를 통한 항목 추가\n",
    "dData[\"딸기\"] = 100\n",
    "print(dData)"
   ]
  },
  {
   "cell_type": "code",
   "execution_count": 7,
   "metadata": {
    "colab": {
     "base_uri": "https://localhost:8080/"
    },
    "id": "BKRIF4bJHd4s",
    "outputId": "2ed3218d-dd8d-43e2-8f8b-3df9064d3271"
   },
   "outputs": [
    {
     "data": {
      "text/plain": [
       "300"
      ]
     },
     "execution_count": 7,
     "metadata": {},
     "output_type": "execute_result"
    }
   ],
   "source": [
    "# pop을 이용한 항목 삭제\n",
    "dData.pop(\"사과\")"
   ]
  },
  {
   "cell_type": "code",
   "execution_count": 8,
   "metadata": {
    "colab": {
     "base_uri": "https://localhost:8080/"
    },
    "id": "gjR-khuTH0aV",
    "outputId": "85b0574a-e7bd-44de-f2a9-caf307a1628d"
   },
   "outputs": [
    {
     "data": {
      "text/plain": [
       "{'포도': 200, '배': 500, '키위': 100, '딸기': 100}"
      ]
     },
     "execution_count": 8,
     "metadata": {},
     "output_type": "execute_result"
    }
   ],
   "source": [
    "dData"
   ]
  },
  {
   "cell_type": "code",
   "execution_count": 10,
   "metadata": {
    "colab": {
     "base_uri": "https://localhost:8080/",
     "height": 173
    },
    "id": "IzaubwdgH3L0",
    "outputId": "5474207e-51d8-47f9-e609-0a67d935836c"
   },
   "outputs": [
    {
     "ename": "TypeError",
     "evalue": "ignored",
     "output_type": "error",
     "traceback": [
      "\u001b[0;31m---------------------------------------------------------------------------\u001b[0m",
      "\u001b[0;31mTypeError\u001b[0m                                 Traceback (most recent call last)",
      "\u001b[0;32m<ipython-input-10-34b2f8eac69c>\u001b[0m in \u001b[0;36m<module>\u001b[0;34m\u001b[0m\n\u001b[0;32m----> 1\u001b[0;31m \u001b[0mdData\u001b[0m\u001b[0;34m.\u001b[0m\u001b[0mpop\u001b[0m\u001b[0;34m(\u001b[0m\u001b[0;34m)\u001b[0m\u001b[0;34m\u001b[0m\u001b[0;34m\u001b[0m\u001b[0m\n\u001b[0m",
      "\u001b[0;31mTypeError\u001b[0m: pop expected at least 1 arguments, got 0"
     ]
    }
   ],
   "source": [
    "dData.pop()"
   ]
  },
  {
   "cell_type": "code",
   "execution_count": 11,
   "metadata": {
    "colab": {
     "base_uri": "https://localhost:8080/"
    },
    "id": "qclWri0cH970",
    "outputId": "cbd30c43-dd3c-4592-bad9-e8498d293688"
   },
   "outputs": [
    {
     "data": {
      "text/plain": [
       "['딸기', '배', '키위', '포도']"
      ]
     },
     "execution_count": 11,
     "metadata": {},
     "output_type": "execute_result"
    }
   ],
   "source": [
    "# sorted 함수를 이용한 정렬\n",
    "sorted(dData)"
   ]
  },
  {
   "cell_type": "code",
   "execution_count": 13,
   "metadata": {
    "colab": {
     "base_uri": "https://localhost:8080/"
    },
    "id": "fZZ69n5jIV78",
    "outputId": "e65c5d61-6a43-4b77-b248-e289cd29e159"
   },
   "outputs": [
    {
     "data": {
      "text/plain": [
       "[100, 100, 200, 500]"
      ]
     },
     "execution_count": 13,
     "metadata": {},
     "output_type": "execute_result"
    }
   ],
   "source": [
    "# sorted와 values 함수를 이용하여 값을 정렬할 수 있음\n",
    "sorted(dData.values())"
   ]
  },
  {
   "cell_type": "code",
   "execution_count": 12,
   "metadata": {
    "colab": {
     "base_uri": "https://localhost:8080/"
    },
    "id": "sprJIdqtIJok",
    "outputId": "18a89c80-b9cd-40a5-900c-f11559711394"
   },
   "outputs": [
    {
     "data": {
      "text/plain": [
       "{'포도': 200, '배': 500, '키위': 100, '딸기': 100}"
      ]
     },
     "execution_count": 12,
     "metadata": {},
     "output_type": "execute_result"
    }
   ],
   "source": [
    "# 실제 dData는 변화가 없음\n",
    "dData"
   ]
  },
  {
   "cell_type": "code",
   "execution_count": 14,
   "metadata": {
    "id": "i4s-vgcZIQ0E"
   },
   "outputs": [],
   "source": [
    "# 함수 f(x)를 생성하고 x 값을 입력으로 받음\n",
    "def f(x):\n",
    "  # x에 10을 더한 값을 출력\n",
    "  return x + 10"
   ]
  },
  {
   "cell_type": "code",
   "execution_count": 15,
   "metadata": {
    "colab": {
     "base_uri": "https://localhost:8080/"
    },
    "id": "y0TJ-Ws8Lqo7",
    "outputId": "93806c5f-3d47-4fe8-fdf9-8d83fe4a6e41"
   },
   "outputs": [
    {
     "data": {
      "text/plain": [
       "12"
      ]
     },
     "execution_count": 15,
     "metadata": {},
     "output_type": "execute_result"
    }
   ],
   "source": [
    "f(2)"
   ]
  },
  {
   "cell_type": "code",
   "execution_count": null,
   "metadata": {
    "id": "VwQARpEhLr9D"
   },
   "outputs": [],
   "source": []
  }
 ],
 "metadata": {
  "colab": {
   "authorship_tag": "ABX9TyPDD3kV8ldAyh5kuaohOase",
   "collapsed_sections": [],
   "include_colab_link": true,
   "provenance": []
  },
  "kernelspec": {
   "display_name": "Python 3 (ipykernel)",
   "language": "python",
   "name": "python3"
  },
  "language_info": {
   "codemirror_mode": {
    "name": "ipython",
    "version": 3
   },
   "file_extension": ".py",
   "mimetype": "text/x-python",
   "name": "python",
   "nbconvert_exporter": "python",
   "pygments_lexer": "ipython3",
   "version": "3.9.7"
  }
 },
 "nbformat": 4,
 "nbformat_minor": 1
}
